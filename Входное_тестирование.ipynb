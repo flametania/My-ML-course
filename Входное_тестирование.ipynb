{
  "nbformat": 4,
  "nbformat_minor": 0,
  "metadata": {
    "colab": {
      "provenance": []
    },
    "kernelspec": {
      "name": "python3",
      "display_name": "Python 3"
    },
    "language_info": {
      "name": "python"
    }
  },
  "cells": [
    {
      "cell_type": "markdown",
      "source": [
        "## Сумма двух чисел\n",
        "\n",
        "На вход подаются 2 целых числа, разделенных пробелом. Выведите их сумму."
      ],
      "metadata": {
        "id": "hOkArGcb5P4f"
      }
    },
    {
      "cell_type": "code",
      "execution_count": null,
      "metadata": {
        "id": "KxGDmKAR4wKO"
      },
      "outputs": [],
      "source": []
    },
    {
      "cell_type": "markdown",
      "source": [
        "## Проверка на четность\n",
        "\n",
        "На вход подается целое число. Выведите \"yes\", если оно четное, и \"no\" в противном случае.\n",
        "\n",
        "*Решать с помощью условия.*"
      ],
      "metadata": {
        "id": "D3FfSpl35eLp"
      }
    },
    {
      "cell_type": "code",
      "source": [],
      "metadata": {
        "id": "Up1gXHBd5uol"
      },
      "execution_count": null,
      "outputs": []
    },
    {
      "cell_type": "markdown",
      "source": [
        "## Длина строки\n",
        "\n",
        "На вход подается строка. Вывести ее длину.\n",
        "\n",
        "*Решается с помощью строк*"
      ],
      "metadata": {
        "id": "e_MSz9505yxr"
      }
    },
    {
      "cell_type": "code",
      "source": [],
      "metadata": {
        "id": "QmHT0vKS577U"
      },
      "execution_count": null,
      "outputs": []
    },
    {
      "cell_type": "markdown",
      "source": [
        "## Количество различных элементов в списке.\n",
        "\n",
        "В первой строке вводится количество элементов. Затем сами элементы, по одному в каждой строке. Вывести количество различных элемнтов.\n",
        "\n",
        "*Решать с использованием цикла и множества.*"
      ],
      "metadata": {
        "id": "12_w5RK26JoB"
      }
    },
    {
      "cell_type": "code",
      "source": [],
      "metadata": {
        "id": "00zsSPV_6tNF"
      },
      "execution_count": null,
      "outputs": []
    },
    {
      "cell_type": "markdown",
      "source": [
        "## Частоты встречаемости символов\n",
        "\n",
        "Дана строка. Для каждого символа выведите, сколько раз он встретился в строке. В каждой строке выходного файла должен выводиться символ и через пробел число его появлений.\n",
        "\n",
        "*Решать с использованием словаря*"
      ],
      "metadata": {
        "id": "KTK-tzHC6zQW"
      }
    },
    {
      "cell_type": "code",
      "source": [],
      "metadata": {
        "id": "oaRHOLKP7aZN"
      },
      "execution_count": null,
      "outputs": []
    }
  ]
}