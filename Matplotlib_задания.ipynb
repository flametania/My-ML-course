{
  "nbformat": 4,
  "nbformat_minor": 0,
  "metadata": {
    "colab": {
      "provenance": []
    },
    "kernelspec": {
      "name": "python3",
      "display_name": "Python 3"
    },
    "language_info": {
      "name": "python"
    }
  },
  "cells": [
    {
      "cell_type": "markdown",
      "source": [
        "# Практические задания"
      ],
      "metadata": {
        "id": "23H61EIfUTjU"
      }
    },
    {
      "cell_type": "markdown",
      "source": [
        "Для заданий нужно использовать следующие даннные."
      ],
      "metadata": {
        "id": "E2SRRpXfUW2f"
      }
    },
    {
      "cell_type": "markdown",
      "source": [
        "Оценки за экзамен по предмету \"Информатика\". Первый список - 3 группы механико-математического факультета, 2 семестр (только те студенты, которые сдавали этот экзамен и в 3 семестре, отчислившиеся не учитываются). Второй список - эти же группы, 3 семестр."
      ],
      "metadata": {
        "id": "bu6dzRZZHSb8"
      }
    },
    {
      "cell_type": "code",
      "execution_count": null,
      "metadata": {
        "id": "LXW3j2xUQFwC"
      },
      "outputs": [],
      "source": [
        "lst_2_semester = [3, 2, 4, 5, 4, 4, 5, 4, 4, 4, 3, 4, 3, 4, 4, 4, 3, 4, 4, 4, 5, 3, 3, 3]\n",
        "lst_3_semester = [4, 2, 3, 5, 3, 4, 5, 4, 5, 3, 2, 3, 3, 4, 5, 4, 3, 3, 3, 4, 5, 2, 2, 2]"
      ]
    },
    {
      "cell_type": "markdown",
      "source": [
        "## Задание 1"
      ],
      "metadata": {
        "id": "CPWtsNcUQPgv"
      }
    },
    {
      "cell_type": "markdown",
      "source": [
        "Отрисовать полигон частот для первого списка."
      ],
      "metadata": {
        "id": "VHRsJRHxAtzs"
      }
    },
    {
      "cell_type": "code",
      "source": [],
      "metadata": {
        "id": "chBkHFK6AyDN"
      },
      "execution_count": null,
      "outputs": []
    },
    {
      "cell_type": "markdown",
      "source": [
        "Отрисовать столбчатую диаграмму для первого списка. Диаграмма должно быть читабельной."
      ],
      "metadata": {
        "id": "D2F4F0ssQ-uY"
      }
    },
    {
      "cell_type": "code",
      "source": [],
      "metadata": {
        "id": "Im5RWsvPAj3m"
      },
      "execution_count": null,
      "outputs": []
    },
    {
      "cell_type": "markdown",
      "source": [
        "Отрисовать круговую диаграмму для первого списка."
      ],
      "metadata": {
        "id": "_QokAp-XAkJ6"
      }
    },
    {
      "cell_type": "code",
      "source": [],
      "metadata": {
        "id": "4h-5N7lnApV3"
      },
      "execution_count": null,
      "outputs": []
    },
    {
      "cell_type": "markdown",
      "source": [
        "## Задание 2"
      ],
      "metadata": {
        "id": "79w8-oJBSumB"
      }
    },
    {
      "cell_type": "markdown",
      "source": [
        "Отрисовать полигоны частот для двух групп рядом."
      ],
      "metadata": {
        "id": "pD7iGEL6A0o9"
      }
    },
    {
      "cell_type": "markdown",
      "source": [
        "Простые графики и столбчатые диаграммы можно расположить в одной и той же системе координат. Для простого графика нужно расположить команды `plot` с соответствующими параметрами друг за другом. Для столбчатой диаграммы столбцы нужно подвинуть, как в примере по ссылке https://matplotlib.org/stable/gallery/lines_bars_and_markers/barchart.html#sphx-glr-gallery-lines-bars-and-markers-barchart-py. Если этого не сделать, они перекроют друг друга."
      ],
      "metadata": {
        "id": "ggYE0Jm7DYH3"
      }
    },
    {
      "cell_type": "code",
      "source": [],
      "metadata": {
        "id": "n8jTCqyNSuPR"
      },
      "execution_count": null,
      "outputs": []
    },
    {
      "cell_type": "markdown",
      "source": [
        "Отрисовать столбчатые диаграммы для двух групп рядом."
      ],
      "metadata": {
        "id": "WZlaO_AJA9q1"
      }
    },
    {
      "cell_type": "code",
      "source": [],
      "metadata": {
        "id": "vzUKOdjTBAjt"
      },
      "execution_count": null,
      "outputs": []
    },
    {
      "cell_type": "markdown",
      "source": [
        "Отрисовать круговые диаграммы для двух групп рядом."
      ],
      "metadata": {
        "id": "RAqmqVLvBB5c"
      }
    },
    {
      "cell_type": "code",
      "source": [],
      "metadata": {
        "id": "dMgkjlIaBEYT"
      },
      "execution_count": null,
      "outputs": []
    },
    {
      "cell_type": "markdown",
      "source": [
        "## Задание 3"
      ],
      "metadata": {
        "id": "zmjJAnDPS1Xx"
      }
    },
    {
      "cell_type": "markdown",
      "source": [
        "Разместить все диаграммы из задания 2 на одном рисунке."
      ],
      "metadata": {
        "id": "yE9TnHdyBGBs"
      }
    },
    {
      "cell_type": "code",
      "source": [],
      "metadata": {
        "id": "mIj1ZVJCS7Dq"
      },
      "execution_count": null,
      "outputs": []
    },
    {
      "cell_type": "markdown",
      "source": [
        "Сохранить получившийся рисунок в файл \"<ваша фамилия>_task3.png\"."
      ],
      "metadata": {
        "id": "v5dff9RlBNZZ"
      }
    },
    {
      "cell_type": "code",
      "source": [],
      "metadata": {
        "id": "kkSSy3_7Bb-3"
      },
      "execution_count": null,
      "outputs": []
    },
    {
      "cell_type": "markdown",
      "source": [
        "## Задание 4. Дополнительное"
      ],
      "metadata": {
        "id": "u3k5n9VzS7r8"
      }
    },
    {
      "cell_type": "markdown",
      "source": [
        "Ознакомиться с примером размещения двумерных столбчатых диаграмм в трехмерной системе координат по ссылке https://matplotlib.org/stable/gallery/mplot3d/bars3d.html#sphx-glr-gallery-mplot3d-bars3d-py\n",
        "\n",
        "Создать аналогичную визуализацию для столбчатых диаграмм из задания 2."
      ],
      "metadata": {
        "id": "WOBEXzBvBeTx"
      }
    },
    {
      "cell_type": "code",
      "source": [],
      "metadata": {
        "id": "gXjB_FI_TA5J"
      },
      "execution_count": null,
      "outputs": []
    }
  ]
}