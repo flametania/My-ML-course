{
 "cells": [
  {
   "cell_type": "markdown",
   "id": "537ff0b9",
   "metadata": {},
   "source": [
    "## Домашнее задание"
   ]
  },
  {
   "cell_type": "markdown",
   "id": "e26b84b1",
   "metadata": {},
   "source": [
    "**Домашнее задание необходимо выслать мне на почту ognevata28@yandex.ru до 08:00 23.04.2024 (вторник на следующей неделе).**"
   ]
  },
  {
   "cell_type": "markdown",
   "id": "533d60ab",
   "metadata": {},
   "source": [
    "**Слово \"Фамилия\" в названии файла замените на свою фамилию.**"
   ]
  },
  {
   "cell_type": "markdown",
   "id": "7b46c194",
   "metadata": {},
   "source": [
    "Задание лучше присылать ссылкой на Colab блокнот."
   ]
  },
  {
   "cell_type": "markdown",
   "id": "bc25f9b9",
   "metadata": {},
   "source": [
    "### Обязательная часть"
   ]
  },
  {
   "cell_type": "markdown",
   "id": "70801ff1",
   "metadata": {},
   "source": [
    "Дан датасет пар решений. Необходимо посчитать коэффициенты схожести для пар (можно использовать библиотечную реализацию методов) и выделить кластеры (вручную).\n",
    "\n",
    "**Внимание!** Задание выполняется по вариантам. Вариант метода (Левенштейна или выравниваний) и датасет указаны в таблице со списком группы.\n",
    "\n",
    "Названия датасетов имеют формат `hometask_341_<variant>.csv`"
   ]
  },
  {
   "cell_type": "markdown",
   "id": "83a8c35b",
   "metadata": {},
   "source": [
    "Подсчет коэффициентов схожести."
   ]
  },
  {
   "cell_type": "code",
   "execution_count": null,
   "id": "a26a23fd",
   "metadata": {},
   "outputs": [],
   "source": []
  },
  {
   "cell_type": "markdown",
   "id": "2422ec49",
   "metadata": {},
   "source": [
    "Выделение кластеров."
   ]
  },
  {
   "cell_type": "code",
   "execution_count": null,
   "id": "48eb9327",
   "metadata": {},
   "outputs": [],
   "source": []
  },
  {
   "cell_type": "markdown",
   "id": "f4c683d8",
   "metadata": {},
   "source": [
    "### Дополнительная часть"
   ]
  },
  {
   "cell_type": "markdown",
   "id": "4a15d4e1",
   "metadata": {},
   "source": [
    "За выполнение 2 дополнительных балла по дисциплине."
   ]
  },
  {
   "cell_type": "markdown",
   "id": "3aaec1da",
   "metadata": {},
   "source": [
    "Реализовать алгоритм DBSCAN для этой задачи: детектировать кластеры и **шумовые точки**. \n",
    "\n",
    "Использовать датасет `data_for_additional_task.csv`"
   ]
  },
  {
   "cell_type": "markdown",
   "id": "dffc267c",
   "metadata": {},
   "source": [
    "Возможное решение - записать все обработанные решения в список, авторов в другой список, использовать метод \n",
    "https://scikit-learn.org/stable/modules/generated/dbscan-function.html и установить параметр $eps=1-коэффициент\\ схожести$\n",
    "\n",
    "Другой вариант решения - через матрицу коэффициентов схожести (строки и столбцы - объекты, ячейки - попарные коэффициенты схожести решений)."
   ]
  },
  {
   "cell_type": "code",
   "execution_count": null,
   "id": "0f64848c",
   "metadata": {},
   "outputs": [],
   "source": []
  }
 ],
 "metadata": {
  "kernelspec": {
   "display_name": "Python 3 (ipykernel)",
   "language": "python",
   "name": "python3"
  },
  "language_info": {
   "codemirror_mode": {
    "name": "ipython",
    "version": 3
   },
   "file_extension": ".py",
   "mimetype": "text/x-python",
   "name": "python",
   "nbconvert_exporter": "python",
   "pygments_lexer": "ipython3",
   "version": "3.9.7"
  }
 },
 "nbformat": 4,
 "nbformat_minor": 5
}
